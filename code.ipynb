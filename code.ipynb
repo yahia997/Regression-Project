{
 "cells": [
  {
   "cell_type": "markdown",
   "id": "dc2093b8",
   "metadata": {},
   "source": [
    "### About the dataset\n",
    "Kaggle: https://www.kaggle.com/datasets/yasserh/student-marks-dataset?resource=download\n",
    "\n",
    "Number of Instances: 100\n",
    "\n",
    "number_courses: Number of Courses Opted by the student\n",
    "\n",
    "time_study: Average Time Studied per day by the student\n",
    "\n",
    "Marks: Marks Obtained by the student"
   ]
  },
  {
   "cell_type": "code",
   "execution_count": 2,
   "id": "8fb5de20",
   "metadata": {},
   "outputs": [],
   "source": [
    "import pandas as pd\n",
    "import numpy as np\n",
    "import matplotlib.pyplot as plt\n",
    "import seaborn as sns"
   ]
  },
  {
   "cell_type": "code",
   "execution_count": 3,
   "id": "13da0239",
   "metadata": {},
   "outputs": [],
   "source": [
    "df = pd.read_csv(\"Student_Marks.csv\")"
   ]
  },
  {
   "cell_type": "code",
   "execution_count": 4,
   "id": "67be8e30",
   "metadata": {},
   "outputs": [
    {
     "name": "stdout",
     "output_type": "stream",
     "text": [
      "<class 'pandas.core.frame.DataFrame'>\n",
      "RangeIndex: 100 entries, 0 to 99\n",
      "Data columns (total 3 columns):\n",
      " #   Column          Non-Null Count  Dtype  \n",
      "---  ------          --------------  -----  \n",
      " 0   number_courses  100 non-null    int64  \n",
      " 1   time_study      100 non-null    float64\n",
      " 2   Marks           100 non-null    float64\n",
      "dtypes: float64(2), int64(1)\n",
      "memory usage: 2.5 KB\n"
     ]
    }
   ],
   "source": [
    "df.info()"
   ]
  },
  {
   "cell_type": "code",
   "execution_count": 5,
   "id": "f119ccb5",
   "metadata": {},
   "outputs": [
    {
     "data": {
      "text/plain": [
       "0"
      ]
     },
     "execution_count": 5,
     "metadata": {},
     "output_type": "execute_result"
    }
   ],
   "source": [
    "df.duplicated().sum()"
   ]
  },
  {
   "cell_type": "code",
   "execution_count": 6,
   "id": "94085913",
   "metadata": {},
   "outputs": [
    {
     "data": {
      "text/html": [
       "<div>\n",
       "<style scoped>\n",
       "    .dataframe tbody tr th:only-of-type {\n",
       "        vertical-align: middle;\n",
       "    }\n",
       "\n",
       "    .dataframe tbody tr th {\n",
       "        vertical-align: top;\n",
       "    }\n",
       "\n",
       "    .dataframe thead th {\n",
       "        text-align: right;\n",
       "    }\n",
       "</style>\n",
       "<table border=\"1\" class=\"dataframe\">\n",
       "  <thead>\n",
       "    <tr style=\"text-align: right;\">\n",
       "      <th></th>\n",
       "      <th>number_courses</th>\n",
       "      <th>time_study</th>\n",
       "      <th>Marks</th>\n",
       "    </tr>\n",
       "  </thead>\n",
       "  <tbody>\n",
       "    <tr>\n",
       "      <th>count</th>\n",
       "      <td>100.000000</td>\n",
       "      <td>100.000000</td>\n",
       "      <td>100.000000</td>\n",
       "    </tr>\n",
       "    <tr>\n",
       "      <th>mean</th>\n",
       "      <td>5.290000</td>\n",
       "      <td>4.077140</td>\n",
       "      <td>24.417690</td>\n",
       "    </tr>\n",
       "    <tr>\n",
       "      <th>std</th>\n",
       "      <td>1.799523</td>\n",
       "      <td>2.372914</td>\n",
       "      <td>14.326199</td>\n",
       "    </tr>\n",
       "    <tr>\n",
       "      <th>min</th>\n",
       "      <td>3.000000</td>\n",
       "      <td>0.096000</td>\n",
       "      <td>5.609000</td>\n",
       "    </tr>\n",
       "    <tr>\n",
       "      <th>25%</th>\n",
       "      <td>4.000000</td>\n",
       "      <td>2.058500</td>\n",
       "      <td>12.633000</td>\n",
       "    </tr>\n",
       "    <tr>\n",
       "      <th>50%</th>\n",
       "      <td>5.000000</td>\n",
       "      <td>4.022000</td>\n",
       "      <td>20.059500</td>\n",
       "    </tr>\n",
       "    <tr>\n",
       "      <th>75%</th>\n",
       "      <td>7.000000</td>\n",
       "      <td>6.179250</td>\n",
       "      <td>36.676250</td>\n",
       "    </tr>\n",
       "    <tr>\n",
       "      <th>max</th>\n",
       "      <td>8.000000</td>\n",
       "      <td>7.957000</td>\n",
       "      <td>55.299000</td>\n",
       "    </tr>\n",
       "  </tbody>\n",
       "</table>\n",
       "</div>"
      ],
      "text/plain": [
       "       number_courses  time_study       Marks\n",
       "count      100.000000  100.000000  100.000000\n",
       "mean         5.290000    4.077140   24.417690\n",
       "std          1.799523    2.372914   14.326199\n",
       "min          3.000000    0.096000    5.609000\n",
       "25%          4.000000    2.058500   12.633000\n",
       "50%          5.000000    4.022000   20.059500\n",
       "75%          7.000000    6.179250   36.676250\n",
       "max          8.000000    7.957000   55.299000"
      ]
     },
     "execution_count": 6,
     "metadata": {},
     "output_type": "execute_result"
    }
   ],
   "source": [
    "df.describe()"
   ]
  }
 ],
 "metadata": {
  "kernelspec": {
   "display_name": "Python 3",
   "language": "python",
   "name": "python3"
  },
  "language_info": {
   "codemirror_mode": {
    "name": "ipython",
    "version": 3
   },
   "file_extension": ".py",
   "mimetype": "text/x-python",
   "name": "python",
   "nbconvert_exporter": "python",
   "pygments_lexer": "ipython3",
   "version": "3.12.0"
  }
 },
 "nbformat": 4,
 "nbformat_minor": 5
}
